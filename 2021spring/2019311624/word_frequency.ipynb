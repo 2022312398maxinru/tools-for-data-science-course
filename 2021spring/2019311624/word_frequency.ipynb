{
 "cells": [
  {
   "cell_type": "code",
   "execution_count": 8,
   "metadata": {},
   "outputs": [
    {
     "name": "stdout",
     "output_type": "stream",
     "text": [
      "the          24\n",
      "to           13\n",
      "a             7\n",
      "are           7\n",
      "who           7\n",
      "early         6\n",
      "voting        6\n",
      "that          6\n",
      "voters        6\n",
      "in            6\n"
     ]
    }
   ],
   "source": [
    "import pandas as pd\n",
    "import re\n",
    "from collections import defaultdict\n",
    "\n",
    "text = open('word_frequency_test.txt').read()\n",
    "pattern = r'[\\s,\\.?!:\"]+'\n",
    "words = re.split(pattern, text)\n",
    "result = {}\n",
    "result = defaultdict(int)\n",
    "for w in words:\n",
    "    result[w] += 1\n",
    "items = list(result.items())\n",
    "items.sort(key=lambda x:x[1], reverse=True) \n",
    "for i in range(10):\n",
    "    word, count = items[i]\n",
    "    print (\"{0:<10}{1:>5}\".format(word, count))\n",
    "\n",
    "r=pd.DataFrame([result])"
   ]
  }
 ],
 "metadata": {
  "kernelspec": {
   "display_name": "Python 3",
   "language": "python",
   "name": "python3"
  },
  "language_info": {
   "codemirror_mode": {
    "name": "ipython",
    "version": 3
   },
   "file_extension": ".py",
   "mimetype": "text/x-python",
   "name": "python",
   "nbconvert_exporter": "python",
   "pygments_lexer": "ipython3",
   "version": "3.7.6"
  }
 },
 "nbformat": 4,
 "nbformat_minor": 4
}
